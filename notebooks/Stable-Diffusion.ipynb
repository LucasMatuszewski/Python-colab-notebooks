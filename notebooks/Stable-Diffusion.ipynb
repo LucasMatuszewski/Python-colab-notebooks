{
 "cells": [
  {
   "cell_type": "markdown",
   "id": "ca74fe4b-764a-48ef-a2d8-e16770dbde44",
   "metadata": {},
   "source": [
    "# Install Stable Diffusion locally\n",
    "\n",
    "Based on: https://www.assemblyai.com/blog/how-to-run-stable-diffusion-locally-to-generate-images/"
   ]
  },
  {
   "cell_type": "markdown",
   "id": "c74eaa77-c13c-47a5-a531-50115ddfb0ca",
   "metadata": {},
   "source": [
    "## Step 1: Install Python"
   ]
  },
  {
   "cell_type": "code",
   "execution_count": null,
   "id": "0942afc7-11f5-4732-b4b7-6135f67732b2",
   "metadata": {},
   "outputs": [],
   "source": [
    "sudo apt-get update\n",
    "yes | sudo apt-get install python3.8"
   ]
  },
  {
   "cell_type": "markdown",
   "id": "4da52a2b-f73a-4250-b9ff-cd609f1f5668",
   "metadata": {},
   "source": [
    "## Step 2: Install Miniconda"
   ]
  },
  {
   "cell_type": "code",
   "execution_count": null,
   "id": "da3e522c-2605-4d0b-8e50-9ba6c0fe3021",
   "metadata": {},
   "outputs": [],
   "source": [
    "conda --version\n",
    "\n",
    "# If there is no Conda install it:\n",
    "# wget https://repo.anaconda.com/miniconda/Miniconda3-py38_4.12.0-Linux-x86_64.sh\n",
    "# bash Miniconda3-py38_4.12.0-Linux-x86_64.sh"
   ]
  },
  {
   "cell_type": "markdown",
   "id": "5bdac978-4804-4c6e-b8fc-cdf0eb79c993",
   "metadata": {},
   "source": [
    "## Step 3: Clone the Stable Diffusion Repository"
   ]
  },
  {
   "cell_type": "code",
   "execution_count": null,
   "id": "5f6729b7-c7f9-469b-bfe0-5809dc12ebec",
   "metadata": {},
   "outputs": [],
   "source": [
    "git clone https://github.com/CompVis/stable-diffusion.git\n",
    "cd stable-diffusion/"
   ]
  },
  {
   "cell_type": "markdown",
   "id": "bd825e84-e8bc-49af-af42-52c764be0f8f",
   "metadata": {},
   "source": [
    "## Step 4: Create Conda Environment"
   ]
  },
  {
   "cell_type": "code",
   "execution_count": null,
   "id": "03114116-a5d3-4424-9d29-0e74fee748ba",
   "metadata": {},
   "outputs": [],
   "source": [
    "conda env create -f environment.yaml\n",
    "conda activate ldm"
   ]
  },
  {
   "cell_type": "markdown",
   "id": "395491d9-9344-41d5-9c91-1d9e064e808a",
   "metadata": {},
   "source": [
    "## Step 5: Download Stable Diffusion Weights"
   ]
  },
  {
   "cell_type": "code",
   "execution_count": null,
   "id": "8e230de6-eea2-4f22-b3bd-390ad0225e31",
   "metadata": {},
   "outputs": [],
   "source": [
    "curl https://f004.backblazeb2.com/file/aai-blog-files/sd-v1-4.ckpt > sd-v1-4.ckpt\n",
    "# Around 3 GB !!!\n",
    "\n",
    "# Latest model: stabilityai/stable-diffusion-2-1\n",
    "# (before SDXL) https://huggingface.co/stabilityai/stable-diffusion-2-1"
   ]
  },
  {
   "cell_type": "markdown",
   "id": "12264add-4709-4525-80cb-8cc5e0a4044d",
   "metadata": {},
   "source": [
    "## How to Generate Images with Stable Diffusion (GPU)"
   ]
  },
  {
   "cell_type": "code",
   "execution_count": null,
   "id": "e167670c-0078-4f93-bbdf-6e1727ab7e7b",
   "metadata": {},
   "outputs": [],
   "source": [
    "# Go to stable-diffusion directory\n",
    "cd stable-diffusion\n",
    "# Activate Conda local Env\n",
    "conda activate ldm\n",
    "\n",
    "python scripts/txt2img.py --prompt \"YOUR-PROMPT-HERE\" --plms --ckpt sd-v1-4.ckpt --skip_grid --n_samples 1\n"
   ]
  },
  {
   "cell_type": "markdown",
   "id": "fdbf5d46-c7f5-427f-8b1a-4af78e2742b5",
   "metadata": {},
   "source": [
    "Script Options\n",
    "You can customize this script with several command-line arguments to tailor the results to what you want. Let's take a look some that might come in handy:\n",
    "\n",
    "- prompt followed by a sentence in quotation marks will specify the prompt to generate the image for. The default is \"a painting of a virus monster playing guitar\".\n",
    "- from-file specifies a filepath for a file of prompts to use to generate images for.\n",
    "- ckpt followed by a path specifies which checkpoint of model to use. The default is models/ldm/stable-diffusion-v1/model.ckpt.\n",
    "- outdir followed by a path will specify the output directory to save the generate image to. The default is outputs/txt2img-samples.\n",
    "- skip_grid will skip creating an image that combines.\n",
    "- ddim_steps followed by an integer specifies the number of sampling steps in the Diffusion process. Increasing this number will increase computation time but may improve results. The default value is 50.\n",
    "- n_samples followed by an integer specifies how many samples to produce for each given prompt (the batch size). The default value is 3.\n",
    "- n_iter followed by an integer specifies how many times to run the sampling loop. Effectively the same as --n_samples, but use this instead if running into OOM error. See the source code for clarification. The default value is 2.\n",
    "- H followed by an integer specifies the height of the generated images (in pixels). The default value is 512.\n",
    "- W followed by an integer specifies the width of generated images (in pixels). The default value is 512.\n",
    "- scale followed by a float specifies the guidance scale to use. The default value is 7.5\n",
    "- seed followed by an integer allows for setting the random seed (for reproducible results). The default value is 42."
   ]
  }
 ],
 "metadata": {
  "kernelspec": {
   "display_name": "saturn (Python 3)",
   "language": "python",
   "name": "python3"
  },
  "language_info": {
   "codemirror_mode": {
    "name": "ipython",
    "version": 3
   },
   "file_extension": ".py",
   "mimetype": "text/x-python",
   "name": "python",
   "nbconvert_exporter": "python",
   "pygments_lexer": "ipython3",
   "version": "3.10.13"
  }
 },
 "nbformat": 4,
 "nbformat_minor": 5
}
