{
 "cells": [
  {
   "cell_type": "code",
   "execution_count": null,
   "id": "16135489-5846-434d-9cce-5053afd637cf",
   "metadata": {},
   "outputs": [],
   "source": [
    "from diffusers import DiffusionPipeline\n",
    "import torch\n",
    "\n",
    "# Load SDXL.\n",
    "pipe_id = \"stabilityai/stable-diffusion-xl-base-1.0\"\n",
    "pipe = DiffusionPipeline.from_pretrained(pipe_id, torch_dtype=torch.float16).to(\"cuda\")\n",
    "\n",
    "# Load LoRAs.\n",
    "pipe.load_lora_weights(\"CiroN2022/toy-face\", weight_name=\"toy_face_sdxl.safetensors\", adapter_name=\"toy\")\n",
    "pipe.load_lora_weights(\"nerijs/pixel-art-xl\", weight_name=\"pixel-art-xl.safetensors\", adapter_name=\"pixel\")\n",
    "\n",
    "# Combine them.\n",
    "pipe.set_adapters([\"pixel\", \"toy\"], adapter_weights=[0.5, 1.0])\n",
    "\n",
    "# Perform inference.\n",
    "# Notice how the prompt is constructed.\n",
    "prompt = \"toy_face of a hacker with a hoodie, pixel art\"\n",
    "image = pipe(\n",
    "    prompt, num_inference_steps=30, cross_attention_kwargs={\"scale\": 1.0}, generator=torch.manual_seed(0)\n",
    ").images[0]\n",
    "image"
   ]
  }
 ],
 "metadata": {
  "kernelspec": {
   "display_name": "saturn (Python 3)",
   "language": "python",
   "name": "python3"
  },
  "language_info": {
   "codemirror_mode": {
    "name": "ipython",
    "version": 3
   },
   "file_extension": ".py",
   "mimetype": "text/x-python",
   "name": "python",
   "nbconvert_exporter": "python",
   "pygments_lexer": "ipython3",
   "version": "3.10.13"
  }
 },
 "nbformat": 4,
 "nbformat_minor": 5
}
