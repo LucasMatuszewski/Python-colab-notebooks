{
 "cells": [
  {
   "cell_type": "markdown",
   "id": "4de596bb-033e-4b8a-8bf7-c6b8dbf9147f",
   "metadata": {},
   "source": [
    "## Check if Nvidia CUDA Toolset with NVCC compiler is installed"
   ]
  },
  {
   "cell_type": "code",
   "execution_count": null,
   "id": "aaa2fb2b-fdb9-4a0a-b63f-34c7cee2939d",
   "metadata": {},
   "outputs": [],
   "source": [
    "# Add NVIDIA CUDA bin directory to PATH to make CUDA Toolkit with NVCC (CUDA Compiler) available (it should be added during installation... and located in the main folder...)\n",
    "# export PATH=/usr/local/cuda-12/bin:$PATH\n",
    "# export LD_LIBRARY_PATH=/usr/local/cuda-12/lib64:$LD_LIBRARY_PATH\n",
    "\n",
    "!echo '$PATH: ' $PATH\n",
    "!echo '$LD_LIBRARY_PATH: ' $LD_LIBRARY_PATH\n",
    "# which nvcc\n",
    "nvcc --version"
   ]
  },
  {
   "cell_type": "markdown",
   "id": "6ff5884f-573f-40dc-9e94-145c03b23256",
   "metadata": {},
   "source": [
    "## Check if Tensorflow is installed, works correctly and has access to GPU"
   ]
  },
  {
   "cell_type": "code",
   "execution_count": null,
   "id": "1ad75efb-7d17-42e2-bc59-e29c35581094",
   "metadata": {},
   "outputs": [],
   "source": [
    "import tensorflow as tf \n",
    "print(tf.__version__)"
   ]
  },
  {
   "cell_type": "code",
   "execution_count": null,
   "id": "95753894-625b-4ddc-aae8-d79bf8b0ddd1",
   "metadata": {},
   "outputs": [],
   "source": [
    "print(\"is_built_with_cuda:\", tf.test.is_built_with_cuda())\n",
    "gpuDevices = tf.config.list_physical_devices('GPU')\n",
    "print(gpuDevices)\n",
    "print(\"Num GPUs Available: \", len(gpuDevices))"
   ]
  },
  {
   "cell_type": "markdown",
   "id": "b8982984-26ea-4f9c-a0e8-0ffe164ecd53",
   "metadata": {},
   "source": [
    "## Check if PyTorch is installed, works correctly and has access to GPU"
   ]
  },
  {
   "cell_type": "code",
   "execution_count": null,
   "id": "b91568f2-0b59-4ac8-976e-04ccf642240b",
   "metadata": {},
   "outputs": [],
   "source": [
    "import torch\n",
    "print(torch.__version__)"
   ]
  },
  {
   "cell_type": "code",
   "execution_count": null,
   "id": "edff45c5-8c46-4d98-9e72-648f38a5a393",
   "metadata": {},
   "outputs": [],
   "source": [
    "x = torch.rand(5, 3)\n",
    "print(x)"
   ]
  },
  {
   "cell_type": "code",
   "execution_count": null,
   "id": "48b0d304-e2df-41c6-9ea5-dbc56cb1b9d8",
   "metadata": {},
   "outputs": [],
   "source": [
    "torch.cuda.is_available()"
   ]
  },
  {
   "cell_type": "code",
   "execution_count": null,
   "id": "064afc57-1f23-497a-a801-f4771b1e9cac",
   "metadata": {},
   "outputs": [],
   "source": []
  }
 ],
 "metadata": {
  "kernelspec": {
   "display_name": "Python 3 (ipykernel)",
   "language": "python",
   "name": "python3"
  },
  "language_info": {
   "codemirror_mode": {
    "name": "ipython",
    "version": 3
   },
   "file_extension": ".py",
   "mimetype": "text/x-python",
   "name": "python",
   "nbconvert_exporter": "python",
   "pygments_lexer": "ipython3",
   "version": "3.10.12"
  }
 },
 "nbformat": 4,
 "nbformat_minor": 5
}
